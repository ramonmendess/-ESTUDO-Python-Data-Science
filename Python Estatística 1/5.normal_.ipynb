{
 "cells": [
  {
   "cell_type": "code",
   "execution_count": null,
   "metadata": {},
   "outputs": [],
   "source": [
    "\"\"\"\n",
    "Formação Cientista de Dados \n",
    "Distribuição normal\n",
    "\n",
    "1 - Importação da Biblioteca\n",
    "2 - Conjunto de objetos em uma cesta, a média é 8 e o desvio padrão é 2 - \n",
    "Qual a probabilidade de tirar um objeto que peso é menor que 6 quilos?\n",
    "3 - Qual a probabilidade de tirar um objeto que o peso á maior que 6 quilos?\n",
    "4 - Qual a probabilidade de tirar um objeto que o peso é menor que 6 ou maior que 10 quilos?\n",
    "5 - Qual a probabilidade de tirar um objeto que o peso é menor que 10 e maior que 8 quilos?\n",
    "\"\"\""
   ]
  },
  {
   "cell_type": "code",
   "execution_count": 1,
   "metadata": {},
   "outputs": [
    {
     "ename": "FileNotFoundError",
     "evalue": "[WinError 2] O sistema não pode encontrar o arquivo especificado: 'c:\\\\Users\\\\ramon\\\\AppData\\\\Local\\\\Programs\\\\Python\\\\Python311\\\\Lib\\\\site-packages\\\\scipy.libs'",
     "output_type": "error",
     "traceback": [
      "\u001b[1;31m---------------------------------------------------------------------------\u001b[0m",
      "\u001b[1;31mFileNotFoundError\u001b[0m                         Traceback (most recent call last)",
      "Cell \u001b[1;32mIn[1], line 2\u001b[0m\n\u001b[0;32m      1\u001b[0m \u001b[39m# Importação da função norm\u001b[39;00m\n\u001b[1;32m----> 2\u001b[0m \u001b[39mfrom\u001b[39;00m \u001b[39mscipy\u001b[39;00m\u001b[39m.\u001b[39;00m\u001b[39mstats\u001b[39;00m \u001b[39mimport\u001b[39;00m norm\n",
      "File \u001b[1;32mc:\\Users\\ramon\\AppData\\Local\\Programs\\Python\\Python311\\Lib\\site-packages\\scipy\\__init__.py:72\u001b[0m\n\u001b[0;32m     68\u001b[0m     \u001b[39mif\u001b[39;00m \u001b[39mnot\u001b[39;00m is_pyinstaller \u001b[39mor\u001b[39;00m os\u001b[39m.\u001b[39mpath\u001b[39m.\u001b[39misdir(libs_dir):\n\u001b[0;32m     69\u001b[0m         os\u001b[39m.\u001b[39madd_dll_directory(libs_dir)\n\u001b[1;32m---> 72\u001b[0m _delvewheel_init_patch_1_3_1()\n\u001b[0;32m     73\u001b[0m \u001b[39mdel\u001b[39;00m _delvewheel_init_patch_1_3_1\n\u001b[0;32m     74\u001b[0m \u001b[39m# end delvewheel patch\u001b[39;00m\n",
      "File \u001b[1;32mc:\\Users\\ramon\\AppData\\Local\\Programs\\Python\\Python311\\Lib\\site-packages\\scipy\\__init__.py:69\u001b[0m, in \u001b[0;36m_delvewheel_init_patch_1_3_1\u001b[1;34m()\u001b[0m\n\u001b[0;32m     67\u001b[0m is_pyinstaller \u001b[39m=\u001b[39m \u001b[39mgetattr\u001b[39m(sys, \u001b[39m'\u001b[39m\u001b[39mfrozen\u001b[39m\u001b[39m'\u001b[39m, \u001b[39mFalse\u001b[39;00m) \u001b[39mand\u001b[39;00m \u001b[39mhasattr\u001b[39m(sys, \u001b[39m'\u001b[39m\u001b[39m_MEIPASS\u001b[39m\u001b[39m'\u001b[39m)\n\u001b[0;32m     68\u001b[0m \u001b[39mif\u001b[39;00m \u001b[39mnot\u001b[39;00m is_pyinstaller \u001b[39mor\u001b[39;00m os\u001b[39m.\u001b[39mpath\u001b[39m.\u001b[39misdir(libs_dir):\n\u001b[1;32m---> 69\u001b[0m     os\u001b[39m.\u001b[39;49madd_dll_directory(libs_dir)\n",
      "File \u001b[1;32m<frozen os>:1119\u001b[0m, in \u001b[0;36madd_dll_directory\u001b[1;34m(path)\u001b[0m\n",
      "\u001b[1;31mFileNotFoundError\u001b[0m: [WinError 2] O sistema não pode encontrar o arquivo especificado: 'c:\\\\Users\\\\ramon\\\\AppData\\\\Local\\\\Programs\\\\Python\\\\Python311\\\\Lib\\\\site-packages\\\\scipy.libs'"
     ]
    }
   ],
   "source": [
    "# Importação da função norm\n",
    "from scipy.stats import norm"
   ]
  },
  {
   "cell_type": "code",
   "execution_count": null,
   "metadata": {},
   "outputs": [],
   "source": [
    "# Conjunto de objetos em uma cesta, a média é 8 e o desvio padrão é 2\n",
    "# Qual a probabilidade de tirar um objeto que peso é menor que 6 quilos?\n",
    "norm.cdf(6, 8, 2)"
   ]
  },
  {
   "cell_type": "code",
   "execution_count": null,
   "metadata": {},
   "outputs": [],
   "source": [
    "# Qual a probabilidade de tirar um objeto que o peso á maior que 6 quilos?\n",
    "#norm.sf(6, 8, 2)\n",
    "1 - norm.cdf(6, 8, 2)"
   ]
  },
  {
   "cell_type": "code",
   "execution_count": null,
   "metadata": {},
   "outputs": [],
   "source": [
    "# Qual a probabilidade de tirar um objeto que o peso é menor que 6 ou maior que 10 quilos?\n",
    "norm.cdf(6, 8, 2) + norm.sf(10, 8, 2)"
   ]
  },
  {
   "cell_type": "code",
   "execution_count": null,
   "metadata": {},
   "outputs": [],
   "source": [
    "# Qual a probabilidade de tirar um objeto que o peso é menor que 10 e maior que 8 quilos?\n",
    "norm.cdf(10, 8, 2) - norm.cdf(8, 8, 2)"
   ]
  },
  {
   "cell_type": "code",
   "execution_count": null,
   "metadata": {},
   "outputs": [],
   "source": []
  }
 ],
 "metadata": {
  "jupytext": {
   "cell_metadata_filter": "-all",
   "main_language": "python",
   "notebook_metadata_filter": "-all"
  },
  "kernelspec": {
   "display_name": "Python 3 (ipykernel)",
   "language": "python",
   "name": "python3"
  },
  "language_info": {
   "codemirror_mode": {
    "name": "ipython",
    "version": 3
   },
   "file_extension": ".py",
   "mimetype": "text/x-python",
   "name": "python",
   "nbconvert_exporter": "python",
   "pygments_lexer": "ipython3",
   "version": "3.11.1"
  }
 },
 "nbformat": 4,
 "nbformat_minor": 4
}
